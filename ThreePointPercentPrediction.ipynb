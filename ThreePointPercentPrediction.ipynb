{
 "cells": [
  {
   "cell_type": "code",
   "execution_count": 1,
   "id": "a456c439-4d24-4b7a-bcac-4c867fb06560",
   "metadata": {},
   "outputs": [],
   "source": [
    "import pandas as pd\n",
    "import numpy as np\n",
    "import matplotlib.pyplot as plt\n",
    "import seaborn as sns"
   ]
  },
  {
   "cell_type": "code",
   "execution_count": 2,
   "id": "2d444aec-c12a-4738-b0e8-e8ec0d6478b2",
   "metadata": {},
   "outputs": [],
   "source": [
    "import statsmodels.api as sm\n",
    "from sklearn.ensemble import RandomForestRegressor, GradientBoostingRegressor\n",
    "from sklearn.metrics import mean_squared_error, r2_score\n",
    "from sklearn.model_selection import train_test_split\n",
    "from sklearn.decomposition import PCA\n",
    "from sklearn.model_selection import GridSearchCV, cross_val_score\n",
    "from sklearn.preprocessing import StandardScaler\n",
    "from sklearn.pipeline import Pipeline"
   ]
  },
  {
   "cell_type": "code",
   "execution_count": 3,
   "id": "081757b6-b8a7-45dc-8bd8-e1e2bad911b1",
   "metadata": {},
   "outputs": [],
   "source": [
    "#Read csv into a dataframe\n",
    "df = pd.read_csv(\"ThreePointOctNov.csv\", header = 0)"
   ]
  },
  {
   "cell_type": "code",
   "execution_count": 4,
   "id": "d1bd52d4-e016-4423-bca7-b7a005962361",
   "metadata": {},
   "outputs": [],
   "source": [
    "#Extract the labels and clean the inputs of player name.\n",
    "Y = df[\"three_pct_season\"]\n",
    "X = df.drop(columns=[\"three_pct_season\", \"Name\"])"
   ]
  },
  {
   "cell_type": "code",
   "execution_count": 9,
   "id": "ee0b98d5-f2b1-4fe4-ac5c-8acaa517d15c",
   "metadata": {},
   "outputs": [],
   "source": [
    "pipeline = Pipeline([('scaling', StandardScaler()), ('pca', PCA(n_components=12))])\n",
    "X = pipeline.fit_transform(X)"
   ]
  },
  {
   "cell_type": "code",
   "execution_count": 10,
   "id": "d22e6297-95b4-4980-9b14-60a06dada044",
   "metadata": {},
   "outputs": [],
   "source": [
    "\"\"\"\n",
    "Here I'm just separating the dataset into training and test subsets. \n",
    "I fixed the random_state to an integer so the split would be reproducible\n",
    "\"\"\"\n",
    "X_train, X_test, Y_train, Y_test = train_test_split(X, Y, test_size=.25, random_state = 12) "
   ]
  },
  {
   "cell_type": "code",
   "execution_count": 11,
   "id": "936087e7-a93f-4174-9641-b3a0ac953111",
   "metadata": {},
   "outputs": [
    {
     "data": {
      "text/html": [
       "<style>#sk-container-id-2 {color: black;}#sk-container-id-2 pre{padding: 0;}#sk-container-id-2 div.sk-toggleable {background-color: white;}#sk-container-id-2 label.sk-toggleable__label {cursor: pointer;display: block;width: 100%;margin-bottom: 0;padding: 0.3em;box-sizing: border-box;text-align: center;}#sk-container-id-2 label.sk-toggleable__label-arrow:before {content: \"▸\";float: left;margin-right: 0.25em;color: #696969;}#sk-container-id-2 label.sk-toggleable__label-arrow:hover:before {color: black;}#sk-container-id-2 div.sk-estimator:hover label.sk-toggleable__label-arrow:before {color: black;}#sk-container-id-2 div.sk-toggleable__content {max-height: 0;max-width: 0;overflow: hidden;text-align: left;background-color: #f0f8ff;}#sk-container-id-2 div.sk-toggleable__content pre {margin: 0.2em;color: black;border-radius: 0.25em;background-color: #f0f8ff;}#sk-container-id-2 input.sk-toggleable__control:checked~div.sk-toggleable__content {max-height: 200px;max-width: 100%;overflow: auto;}#sk-container-id-2 input.sk-toggleable__control:checked~label.sk-toggleable__label-arrow:before {content: \"▾\";}#sk-container-id-2 div.sk-estimator input.sk-toggleable__control:checked~label.sk-toggleable__label {background-color: #d4ebff;}#sk-container-id-2 div.sk-label input.sk-toggleable__control:checked~label.sk-toggleable__label {background-color: #d4ebff;}#sk-container-id-2 input.sk-hidden--visually {border: 0;clip: rect(1px 1px 1px 1px);clip: rect(1px, 1px, 1px, 1px);height: 1px;margin: -1px;overflow: hidden;padding: 0;position: absolute;width: 1px;}#sk-container-id-2 div.sk-estimator {font-family: monospace;background-color: #f0f8ff;border: 1px dotted black;border-radius: 0.25em;box-sizing: border-box;margin-bottom: 0.5em;}#sk-container-id-2 div.sk-estimator:hover {background-color: #d4ebff;}#sk-container-id-2 div.sk-parallel-item::after {content: \"\";width: 100%;border-bottom: 1px solid gray;flex-grow: 1;}#sk-container-id-2 div.sk-label:hover label.sk-toggleable__label {background-color: #d4ebff;}#sk-container-id-2 div.sk-serial::before {content: \"\";position: absolute;border-left: 1px solid gray;box-sizing: border-box;top: 0;bottom: 0;left: 50%;z-index: 0;}#sk-container-id-2 div.sk-serial {display: flex;flex-direction: column;align-items: center;background-color: white;padding-right: 0.2em;padding-left: 0.2em;position: relative;}#sk-container-id-2 div.sk-item {position: relative;z-index: 1;}#sk-container-id-2 div.sk-parallel {display: flex;align-items: stretch;justify-content: center;background-color: white;position: relative;}#sk-container-id-2 div.sk-item::before, #sk-container-id-2 div.sk-parallel-item::before {content: \"\";position: absolute;border-left: 1px solid gray;box-sizing: border-box;top: 0;bottom: 0;left: 50%;z-index: -1;}#sk-container-id-2 div.sk-parallel-item {display: flex;flex-direction: column;z-index: 1;position: relative;background-color: white;}#sk-container-id-2 div.sk-parallel-item:first-child::after {align-self: flex-end;width: 50%;}#sk-container-id-2 div.sk-parallel-item:last-child::after {align-self: flex-start;width: 50%;}#sk-container-id-2 div.sk-parallel-item:only-child::after {width: 0;}#sk-container-id-2 div.sk-dashed-wrapped {border: 1px dashed gray;margin: 0 0.4em 0.5em 0.4em;box-sizing: border-box;padding-bottom: 0.4em;background-color: white;}#sk-container-id-2 div.sk-label label {font-family: monospace;font-weight: bold;display: inline-block;line-height: 1.2em;}#sk-container-id-2 div.sk-label-container {text-align: center;}#sk-container-id-2 div.sk-container {/* jupyter's `normalize.less` sets `[hidden] { display: none; }` but bootstrap.min.css set `[hidden] { display: none !important; }` so we also need the `!important` here to be able to override the default hidden behavior on the sphinx rendered scikit-learn.org. See: https://github.com/scikit-learn/scikit-learn/issues/21755 */display: inline-block !important;position: relative;}#sk-container-id-2 div.sk-text-repr-fallback {display: none;}</style><div id=\"sk-container-id-2\" class=\"sk-top-container\"><div class=\"sk-text-repr-fallback\"><pre>PCA(n_components=12)</pre><b>In a Jupyter environment, please rerun this cell to show the HTML representation or trust the notebook. <br />On GitHub, the HTML representation is unable to render, please try loading this page with nbviewer.org.</b></div><div class=\"sk-container\" hidden><div class=\"sk-item\"><div class=\"sk-estimator sk-toggleable\"><input class=\"sk-toggleable__control sk-hidden--visually\" id=\"sk-estimator-id-2\" type=\"checkbox\" checked><label for=\"sk-estimator-id-2\" class=\"sk-toggleable__label sk-toggleable__label-arrow\">PCA</label><div class=\"sk-toggleable__content\"><pre>PCA(n_components=12)</pre></div></div></div></div></div>"
      ],
      "text/plain": [
       "PCA(n_components=12)"
      ]
     },
     "execution_count": 11,
     "metadata": {},
     "output_type": "execute_result"
    }
   ],
   "source": [
    "#run principal components analysis\n",
    "pca = PCA(n_components = 12)\n",
    "pca.fit(X_train)"
   ]
  },
  {
   "cell_type": "code",
   "execution_count": 12,
   "id": "a596f8ae-b1df-439f-a119-51cf013a445f",
   "metadata": {},
   "outputs": [
    {
     "name": "stdout",
     "output_type": "stream",
     "text": [
      "[0.24187941 0.15150544 0.12677055 0.10152347 0.08626369 0.07855262\n",
      " 0.06162184 0.05126339 0.04347322 0.02621071 0.01743165 0.01350402]\n"
     ]
    }
   ],
   "source": [
    "#Seems like x_1 through x_5 are sufficient to explain the bulk of the variance, so I'll rely on those\n",
    "print(pca.explained_variance_ratio_)"
   ]
  },
  {
   "cell_type": "code",
   "execution_count": 8,
   "id": "04c702aa-8bbc-4db6-8e62-313d9302676d",
   "metadata": {},
   "outputs": [],
   "source": [
    "#Isolate x_1 through x_5 in training set\n",
    "X_train.drop(columns=['ft_pct_oct_nov',\n",
    "       'lwr_paint_shots_oct_nov', 'upr_paint_shots_oct_nov',\n",
    "       'mid_shots_oct_nov', 'three_non_cnr_shots_oct_nov',\n",
    "       'three_cnr_shots_oct_nov', 'ft_shots_oct_nov'], inplace=True)"
   ]
  },
  {
   "cell_type": "code",
   "execution_count": 9,
   "id": "d3f83e7e-ba4e-4cf3-ae01-119c657ad4a8",
   "metadata": {},
   "outputs": [],
   "source": [
    "#Isolate x_1 through x_5 in test set\n",
    "X_test.drop(columns=['ft_pct_oct_nov',\n",
    "       'lwr_paint_shots_oct_nov', 'upr_paint_shots_oct_nov',\n",
    "       'mid_shots_oct_nov', 'three_non_cnr_shots_oct_nov',\n",
    "       'three_cnr_shots_oct_nov', 'ft_shots_oct_nov'], inplace=True)"
   ]
  },
  {
   "cell_type": "code",
   "execution_count": 10,
   "id": "6641e462-cfec-4ef4-aabf-b90d9b98f779",
   "metadata": {},
   "outputs": [
    {
     "data": {
      "text/html": [
       "<table class=\"simpletable\">\n",
       "<caption>OLS Regression Results</caption>\n",
       "<tr>\n",
       "  <th>Dep. Variable:</th>    <td>three_pct_season</td> <th>  R-squared (uncentered):</th>      <td>   0.992</td>\n",
       "</tr>\n",
       "<tr>\n",
       "  <th>Model:</th>                   <td>OLS</td>       <th>  Adj. R-squared (uncentered):</th> <td>   0.992</td>\n",
       "</tr>\n",
       "<tr>\n",
       "  <th>Method:</th>             <td>Least Squares</td>  <th>  F-statistic:       </th>          <td>   1909.</td>\n",
       "</tr>\n",
       "<tr>\n",
       "  <th>Date:</th>             <td>Sat, 02 Dec 2023</td> <th>  Prob (F-statistic):</th>          <td>2.33e-78</td>\n",
       "</tr>\n",
       "<tr>\n",
       "  <th>Time:</th>                 <td>19:35:37</td>     <th>  Log-Likelihood:    </th>          <td>  163.99</td>\n",
       "</tr>\n",
       "<tr>\n",
       "  <th>No. Observations:</th>      <td>    81</td>      <th>  AIC:               </th>          <td>  -318.0</td>\n",
       "</tr>\n",
       "<tr>\n",
       "  <th>Df Residuals:</th>          <td>    76</td>      <th>  BIC:               </th>          <td>  -306.0</td>\n",
       "</tr>\n",
       "<tr>\n",
       "  <th>Df Model:</th>              <td>     5</td>      <th>                     </th>              <td> </td>   \n",
       "</tr>\n",
       "<tr>\n",
       "  <th>Covariance Type:</th>      <td>nonrobust</td>    <th>                     </th>              <td> </td>   \n",
       "</tr>\n",
       "</table>\n",
       "<table class=\"simpletable\">\n",
       "<tr>\n",
       "              <td></td>                 <th>coef</th>     <th>std err</th>      <th>t</th>      <th>P>|t|</th>  <th>[0.025</th>    <th>0.975]</th>  \n",
       "</tr>\n",
       "<tr>\n",
       "  <th>lwr_paint_pct_oct_nov</th>     <td>    0.1006</td> <td>    0.034</td> <td>    2.971</td> <td> 0.004</td> <td>    0.033</td> <td>    0.168</td>\n",
       "</tr>\n",
       "<tr>\n",
       "  <th>upr_paint_pct_oct_nov</th>     <td>    0.1079</td> <td>    0.041</td> <td>    2.637</td> <td> 0.010</td> <td>    0.026</td> <td>    0.189</td>\n",
       "</tr>\n",
       "<tr>\n",
       "  <th>mid_pct_oct_nov</th>           <td>    0.0887</td> <td>    0.030</td> <td>    2.980</td> <td> 0.004</td> <td>    0.029</td> <td>    0.148</td>\n",
       "</tr>\n",
       "<tr>\n",
       "  <th>three_non_cnr_pct_oct_nov</th> <td>    0.2291</td> <td>    0.036</td> <td>    6.406</td> <td> 0.000</td> <td>    0.158</td> <td>    0.300</td>\n",
       "</tr>\n",
       "<tr>\n",
       "  <th>three_cnr_pct_oct_nov</th>     <td>    0.3709</td> <td>    0.047</td> <td>    7.890</td> <td> 0.000</td> <td>    0.277</td> <td>    0.464</td>\n",
       "</tr>\n",
       "</table>\n",
       "<table class=\"simpletable\">\n",
       "<tr>\n",
       "  <th>Omnibus:</th>       <td>18.745</td> <th>  Durbin-Watson:     </th> <td>   1.998</td>\n",
       "</tr>\n",
       "<tr>\n",
       "  <th>Prob(Omnibus):</th> <td> 0.000</td> <th>  Jarque-Bera (JB):  </th> <td>  30.890</td>\n",
       "</tr>\n",
       "<tr>\n",
       "  <th>Skew:</th>          <td>-0.899</td> <th>  Prob(JB):          </th> <td>1.96e-07</td>\n",
       "</tr>\n",
       "<tr>\n",
       "  <th>Kurtosis:</th>      <td> 5.433</td> <th>  Cond. No.          </th> <td>    13.8</td>\n",
       "</tr>\n",
       "</table><br/><br/>Notes:<br/>[1] R² is computed without centering (uncentered) since the model does not contain a constant.<br/>[2] Standard Errors assume that the covariance matrix of the errors is correctly specified."
      ],
      "text/latex": [
       "\\begin{center}\n",
       "\\begin{tabular}{lclc}\n",
       "\\toprule\n",
       "\\textbf{Dep. Variable:}                 & three\\_pct\\_season & \\textbf{  R-squared (uncentered):}      &     0.992   \\\\\n",
       "\\textbf{Model:}                         &        OLS         & \\textbf{  Adj. R-squared (uncentered):} &     0.992   \\\\\n",
       "\\textbf{Method:}                        &   Least Squares    & \\textbf{  F-statistic:       }          &     1909.   \\\\\n",
       "\\textbf{Date:}                          &  Sat, 02 Dec 2023  & \\textbf{  Prob (F-statistic):}          &  2.33e-78   \\\\\n",
       "\\textbf{Time:}                          &      19:35:37      & \\textbf{  Log-Likelihood:    }          &    163.99   \\\\\n",
       "\\textbf{No. Observations:}              &           81       & \\textbf{  AIC:               }          &    -318.0   \\\\\n",
       "\\textbf{Df Residuals:}                  &           76       & \\textbf{  BIC:               }          &    -306.0   \\\\\n",
       "\\textbf{Df Model:}                      &            5       & \\textbf{                     }          &             \\\\\n",
       "\\textbf{Covariance Type:}               &     nonrobust      & \\textbf{                     }          &             \\\\\n",
       "\\bottomrule\n",
       "\\end{tabular}\n",
       "\\begin{tabular}{lcccccc}\n",
       "                                        & \\textbf{coef} & \\textbf{std err} & \\textbf{t} & \\textbf{P$> |$t$|$} & \\textbf{[0.025} & \\textbf{0.975]}  \\\\\n",
       "\\midrule\n",
       "\\textbf{lwr\\_paint\\_pct\\_oct\\_nov}      &       0.1006  &        0.034     &     2.971  &         0.004        &        0.033    &        0.168     \\\\\n",
       "\\textbf{upr\\_paint\\_pct\\_oct\\_nov}      &       0.1079  &        0.041     &     2.637  &         0.010        &        0.026    &        0.189     \\\\\n",
       "\\textbf{mid\\_pct\\_oct\\_nov}             &       0.0887  &        0.030     &     2.980  &         0.004        &        0.029    &        0.148     \\\\\n",
       "\\textbf{three\\_non\\_cnr\\_pct\\_oct\\_nov} &       0.2291  &        0.036     &     6.406  &         0.000        &        0.158    &        0.300     \\\\\n",
       "\\textbf{three\\_cnr\\_pct\\_oct\\_nov}      &       0.3709  &        0.047     &     7.890  &         0.000        &        0.277    &        0.464     \\\\\n",
       "\\bottomrule\n",
       "\\end{tabular}\n",
       "\\begin{tabular}{lclc}\n",
       "\\textbf{Omnibus:}       & 18.745 & \\textbf{  Durbin-Watson:     } &    1.998  \\\\\n",
       "\\textbf{Prob(Omnibus):} &  0.000 & \\textbf{  Jarque-Bera (JB):  } &   30.890  \\\\\n",
       "\\textbf{Skew:}          & -0.899 & \\textbf{  Prob(JB):          } & 1.96e-07  \\\\\n",
       "\\textbf{Kurtosis:}      &  5.433 & \\textbf{  Cond. No.          } &     13.8  \\\\\n",
       "\\bottomrule\n",
       "\\end{tabular}\n",
       "%\\caption{OLS Regression Results}\n",
       "\\end{center}\n",
       "\n",
       "Notes: \\newline\n",
       " [1] R² is computed without centering (uncentered) since the model does not contain a constant. \\newline\n",
       " [2] Standard Errors assume that the covariance matrix of the errors is correctly specified."
      ],
      "text/plain": [
       "<class 'statsmodels.iolib.summary.Summary'>\n",
       "\"\"\"\n",
       "                                 OLS Regression Results                                \n",
       "=======================================================================================\n",
       "Dep. Variable:       three_pct_season   R-squared (uncentered):                   0.992\n",
       "Model:                            OLS   Adj. R-squared (uncentered):              0.992\n",
       "Method:                 Least Squares   F-statistic:                              1909.\n",
       "Date:                Sat, 02 Dec 2023   Prob (F-statistic):                    2.33e-78\n",
       "Time:                        19:35:37   Log-Likelihood:                          163.99\n",
       "No. Observations:                  81   AIC:                                     -318.0\n",
       "Df Residuals:                      76   BIC:                                     -306.0\n",
       "Df Model:                           5                                                  \n",
       "Covariance Type:            nonrobust                                                  \n",
       "=============================================================================================\n",
       "                                coef    std err          t      P>|t|      [0.025      0.975]\n",
       "---------------------------------------------------------------------------------------------\n",
       "lwr_paint_pct_oct_nov         0.1006      0.034      2.971      0.004       0.033       0.168\n",
       "upr_paint_pct_oct_nov         0.1079      0.041      2.637      0.010       0.026       0.189\n",
       "mid_pct_oct_nov               0.0887      0.030      2.980      0.004       0.029       0.148\n",
       "three_non_cnr_pct_oct_nov     0.2291      0.036      6.406      0.000       0.158       0.300\n",
       "three_cnr_pct_oct_nov         0.3709      0.047      7.890      0.000       0.277       0.464\n",
       "==============================================================================\n",
       "Omnibus:                       18.745   Durbin-Watson:                   1.998\n",
       "Prob(Omnibus):                  0.000   Jarque-Bera (JB):               30.890\n",
       "Skew:                          -0.899   Prob(JB):                     1.96e-07\n",
       "Kurtosis:                       5.433   Cond. No.                         13.8\n",
       "==============================================================================\n",
       "\n",
       "Notes:\n",
       "[1] R² is computed without centering (uncentered) since the model does not contain a constant.\n",
       "[2] Standard Errors assume that the covariance matrix of the errors is correctly specified.\n",
       "\"\"\""
      ]
     },
     "execution_count": 10,
     "metadata": {},
     "output_type": "execute_result"
    }
   ],
   "source": [
    "#Linear regression - gives an R squared of .992!\n",
    "OLS_model = sm.OLS(Y_train, X_train, hasconst=None)\n",
    "OLS_results = OLS_model.fit()\n",
    "OLS_results.summary()"
   ]
  },
  {
   "cell_type": "code",
   "execution_count": 11,
   "id": "7114a124-9f92-48b2-91b5-3b213cb1db15",
   "metadata": {},
   "outputs": [],
   "source": [
    "#Determine coefficients for weighted linear regression\n",
    "Y_resid = [abs(resid) for resid in OLS_results.resid]\n",
    "X_resid = OLS_results.fittedvalues\n",
    "\n",
    "res_residuals_OLS_model = sm.OLS(Y_resid, X_resid, hasconst=None).fit()\n",
    "mod_fv = res_residuals_OLS_model.fittedvalues\n",
    "weights = 1 / (mod_fv**2)"
   ]
  },
  {
   "cell_type": "code",
   "execution_count": 12,
   "id": "f2b3a57a-6bd6-488e-98a1-c68e2adba7bc",
   "metadata": {},
   "outputs": [
    {
     "name": "stdout",
     "output_type": "stream",
     "text": [
      "                                 WLS Regression Results                                \n",
      "=======================================================================================\n",
      "Dep. Variable:       three_pct_season   R-squared (uncentered):                   0.992\n",
      "Model:                            WLS   Adj. R-squared (uncentered):              0.991\n",
      "Method:                 Least Squares   F-statistic:                              1847.\n",
      "Date:                Sat, 02 Dec 2023   Prob (F-statistic):                    8.11e-78\n",
      "Time:                        19:35:37   Log-Likelihood:                          163.00\n",
      "No. Observations:                  81   AIC:                                     -316.0\n",
      "Df Residuals:                      76   BIC:                                     -304.0\n",
      "Df Model:                           5                                                  \n",
      "Covariance Type:            nonrobust                                                  \n",
      "=============================================================================================\n",
      "                                coef    std err          t      P>|t|      [0.025      0.975]\n",
      "---------------------------------------------------------------------------------------------\n",
      "lwr_paint_pct_oct_nov         0.1119      0.033      3.400      0.001       0.046       0.177\n",
      "upr_paint_pct_oct_nov         0.1069      0.040      2.648      0.010       0.026       0.187\n",
      "mid_pct_oct_nov               0.0824      0.031      2.689      0.009       0.021       0.143\n",
      "three_non_cnr_pct_oct_nov     0.2299      0.036      6.351      0.000       0.158       0.302\n",
      "three_cnr_pct_oct_nov         0.3660      0.047      7.724      0.000       0.272       0.460\n",
      "==============================================================================\n",
      "Omnibus:                       17.872   Durbin-Watson:                   1.990\n",
      "Prob(Omnibus):                  0.000   Jarque-Bera (JB):               31.180\n",
      "Skew:                          -0.826   Prob(JB):                     1.70e-07\n",
      "Kurtosis:                       5.552   Cond. No.                         13.7\n",
      "==============================================================================\n",
      "\n",
      "Notes:\n",
      "[1] R² is computed without centering (uncentered) since the model does not contain a constant.\n",
      "[2] Standard Errors assume that the covariance matrix of the errors is correctly specified.\n"
     ]
    }
   ],
   "source": [
    "\"\"\"\n",
    "Build the weighted least squares linear regression model.\n",
    "\"\"\"\n",
    "WLS_model = sm.WLS(Y_train, X_train, hasconst=None, weights=weights)\n",
    "WLS_results = WLS_model.fit()\n",
    "print(WLS_results.summary())\n"
   ]
  },
  {
   "cell_type": "code",
   "execution_count": 13,
   "id": "f94863fd-ab42-403d-ad11-885831142ac7",
   "metadata": {},
   "outputs": [
    {
     "name": "stdout",
     "output_type": "stream",
     "text": [
      "0.31654778596847555\n"
     ]
    }
   ],
   "source": [
    "\"\"\"\n",
    "Next, get cross validation score of random forest model. Used default k=5 fold cross val. \n",
    "Loss function is MSE (don't need to specify it in params - it is the default)\n",
    "Set random_state to 0 for reproducibility.\n",
    "Use GridSearchCV to find optimal depth of trees\n",
    "\"\"\"\n",
    "\n",
    "random_forest = GridSearchCV(RandomForestRegressor(random_state=0), {'max_depth': range(1, 10)})\n",
    "random_forest.fit(X_train, Y_train)\n",
    "print(np.mean([np.absolute(x) for x in cross_val_score(random_forest, X_train, Y_train)]))"
   ]
  },
  {
   "cell_type": "code",
   "execution_count": 14,
   "id": "dcd55285-c1b5-4bf5-b1ae-30940532789d",
   "metadata": {},
   "outputs": [
    {
     "data": {
      "text/plain": [
       "\"\\nNote: I'm taking the averages of the absolute values of the cross validation scores because scikit \\nreturns negative numbers for MSE on some folds.\\nThe negative values are not an issue - this is still MSE, it's just a quirk in how scikit works. The absolute value is the true MSE.\\nThis average isn't great, so let's try gradient boosting.\\n\""
      ]
     },
     "execution_count": 14,
     "metadata": {},
     "output_type": "execute_result"
    }
   ],
   "source": [
    "\"\"\"\n",
    "Note: I'm taking the averages of the absolute values of the cross validation scores because scikit \n",
    "returns negative numbers for MSE on some folds.\n",
    "The negative values are not an issue - this is still MSE, it's just a quirk in how scikit works. The absolute value is the true MSE.\n",
    "This average isn't great, so let's try gradient boosting.\n",
    "\"\"\"\n"
   ]
  },
  {
   "cell_type": "code",
   "execution_count": 15,
   "id": "8b08dfbc-77b8-4210-9c63-63dab5ee6c67",
   "metadata": {},
   "outputs": [
    {
     "name": "stdout",
     "output_type": "stream",
     "text": [
      "0.34486504796262607\n"
     ]
    }
   ],
   "source": [
    "\"\"\"\n",
    "Finally, fit a boosted decision tree model. \n",
    "Set random_state to 0 for reproducibility. \n",
    "Use GridSearchCV for learning rate and max depth.\n",
    "\"\"\"\n",
    "gradient_boosting = GridSearchCV(GradientBoostingRegressor(random_state=0), {'learning_rate': [.00001, .0001, .001, .01, .1], 'max_depth': range(1, 10)}) \n",
    "gradient_boosting.fit(X_train, Y_train)\n",
    "print(np.mean([np.absolute(x) for x in cross_val_score(gradient_boosting, X_train, Y_train)]))"
   ]
  },
  {
   "cell_type": "code",
   "execution_count": 16,
   "id": "f07ac57f-784c-4b92-a320-a28197f4c5eb",
   "metadata": {},
   "outputs": [
    {
     "data": {
      "text/plain": [
       "\"\\nThe cross validation scores for both random forest and gradient boosting aren't great\\nThis suggests that those models are a bit too complex for the data.\\nLinear regression therefore is probably better. Let's then look at the MSE for the two linear models \\non the training set. \\n\""
      ]
     },
     "execution_count": 16,
     "metadata": {},
     "output_type": "execute_result"
    }
   ],
   "source": [
    "\"\"\"\n",
    "The cross validation scores for both random forest and gradient boosting aren't great\n",
    "This suggests that those models are a bit too complex for the data.\n",
    "Linear regression therefore is probably better. Let's then look at the MSE for the two linear models \n",
    "on the training set. \n",
    "\"\"\""
   ]
  },
  {
   "cell_type": "code",
   "execution_count": 17,
   "id": "ec41c836-7940-454a-a2b9-c6a57df517e4",
   "metadata": {},
   "outputs": [
    {
     "name": "stdout",
     "output_type": "stream",
     "text": [
      "0.0010209631341279919\n"
     ]
    }
   ],
   "source": [
    "#Let's see the MSE of the unweighted linear model on the training set.\n",
    "Y_pred = OLS_results.predict(X_train)\n",
    "print(mean_squared_error(Y_train, Y_pred))"
   ]
  },
  {
   "cell_type": "code",
   "execution_count": 18,
   "id": "c09a6144-09ee-42bd-82f5-f7839cd4426f",
   "metadata": {},
   "outputs": [],
   "source": [
    "#That's a good mean squared error! Now let's move onto the weighted linear model"
   ]
  },
  {
   "cell_type": "code",
   "execution_count": 19,
   "id": "215afaca-c087-41c7-bb36-305a71cf8e35",
   "metadata": {},
   "outputs": [
    {
     "name": "stdout",
     "output_type": "stream",
     "text": [
      "0.0010272049176621504\n"
     ]
    }
   ],
   "source": [
    "Y_pred = WLS_results.predict(X_train)\n",
    "print(mean_squared_error(Y_train, Y_pred))"
   ]
  },
  {
   "cell_type": "code",
   "execution_count": 20,
   "id": "bab1f942-2ccf-4fa5-aa5e-d86a75627bc2",
   "metadata": {},
   "outputs": [
    {
     "data": {
      "text/plain": [
       "\"\\nThat's great as well. So now we need a way to decide between \\nunweighted and weighted linear regression. \\n\\nLet's look at whether there is evidence of heteroskedasticity.\\n\""
      ]
     },
     "execution_count": 20,
     "metadata": {},
     "output_type": "execute_result"
    }
   ],
   "source": [
    "\"\"\"\n",
    "That's great as well. So now we need a way to decide between \n",
    "unweighted and weighted linear regression. \n",
    "\n",
    "Let's look at whether there is evidence of heteroskedasticity.\n",
    "\"\"\""
   ]
  },
  {
   "cell_type": "code",
   "execution_count": 21,
   "id": "fa9b2624-ec67-404b-95d2-b6d721e0d5f9",
   "metadata": {},
   "outputs": [
    {
     "data": {
      "image/png": "[encoded data removed]",
      "text/plain": [
       "<Figure size 640x480 with 1 Axes>"
      ]
     },
     "metadata": {},
     "output_type": "display_data"
    }
   ],
   "source": [
    "#Plot of the OLS residuals vs fitted values\n",
    "plt.scatter(OLS_results.fittedvalues, OLS_results.resid)\n",
    "plt.title(\"OLS model, fitted values and their corresponding residuals\")\n",
    "plt.xlabel(\"Fitted vals\")\n",
    "plt.ylabel(\"residuals\")\n",
    "plt.axhline(y=0, color='g')\n",
    "plt.show()"
   ]
  },
  {
   "cell_type": "code",
   "execution_count": 22,
   "id": "4a28eac9-4672-459f-b779-36ea13e10d1d",
   "metadata": {},
   "outputs": [
    {
     "data": {
      "text/plain": [
       "\"\\nIt appears like there might be a cone shape developing, so we might\\nwant to be safe and not assume homoscedasticity. Therefore, the weighted linear\\nregression is probably the model we want to go with.\\n\\nLet's see the mean squared error of the weighted linear model on the test set. \\n\""
      ]
     },
     "execution_count": 22,
     "metadata": {},
     "output_type": "execute_result"
    }
   ],
   "source": [
    "\"\"\"\n",
    "It appears like there might be a cone shape developing, so we might\n",
    "want to be safe and not assume homoscedasticity. Therefore, the weighted linear\n",
    "regression is probably the model we want to go with.\n",
    "\n",
    "Let's see the mean squared error of the weighted linear model on the test set. \n",
    "\"\"\""
   ]
  },
  {
   "cell_type": "code",
   "execution_count": 23,
   "id": "95557ef0-1734-4d6d-9fd6-b4161b3d365c",
   "metadata": {},
   "outputs": [
    {
     "name": "stdout",
     "output_type": "stream",
     "text": [
      "0.0011306691864877859\n"
     ]
    }
   ],
   "source": [
    "Y_pred = WLS_results.predict(X_test)\n",
    "print(mean_squared_error(Y_test, Y_pred))"
   ]
  },
  {
   "cell_type": "code",
   "execution_count": 24,
   "id": "45298353-35f1-486a-a714-7d5c06c12d0b",
   "metadata": {},
   "outputs": [
    {
     "data": {
      "text/plain": [
       "'\\nThere we go! The mean squared error is .001, which is certainly acceptable. \\nBelow is a histogram showing the distribution of the residuals on the test set.\\n'"
      ]
     },
     "execution_count": 24,
     "metadata": {},
     "output_type": "execute_result"
    }
   ],
   "source": [
    "\"\"\"\n",
    "There we go! The mean squared error is .001, which is certainly acceptable. \n",
    "Below is a histogram showing the distribution of the residuals on the test set.\n",
    "\"\"\""
   ]
  },
  {
   "cell_type": "code",
   "execution_count": 25,
   "id": "098dd0e1-199b-48a8-8b27-759f9b32dbfa",
   "metadata": {},
   "outputs": [
    {
     "name": "stderr",
     "output_type": "stream",
     "text": [
      "/var/folders/wt/9_6pdt8n2kz5f1cv6bqysq440000gn/T/ipykernel_21820/3943721192.py:5: UserWarning: \n",
      "\n",
      "`distplot` is a deprecated function and will be removed in seaborn v0.14.0.\n",
      "\n",
      "Please adapt your code to use either `displot` (a figure-level function with\n",
      "similar flexibility) or `histplot` (an axes-level function for histograms).\n",
      "\n",
      "For a guide to updating your code to use the new functions, please see\n",
      "https://gist.github.com/mwaskom/de44147ed2974457ad6372750bbe5751\n",
      "\n",
      "  sns.distplot(residuals, bins=10)\n"
     ]
    },
    {
     "data": {
      "image/png": "[encoded data removed]",
      "text/plain": [
       "<Figure size 640x480 with 1 Axes>"
      ]
     },
     "metadata": {},
     "output_type": "display_data"
    }
   ],
   "source": [
    "Y_pred_list = Y_pred.tolist()\n",
    "Y_test_list = Y_test.tolist()\n",
    "\n",
    "residuals = [(Y_test_list[i] - Y_pred_list[i]) for i in range(len(Y_pred_list))]\n",
    "sns.distplot(residuals, bins=10)\n",
    "plt.title(\"Training Set Residuals\")\n",
    "plt.xlabel(\"Error\")\n",
    "plt.ylabel(\"Number of residuals\")\n",
    "plt.show()"
   ]
  },
  {
   "cell_type": "code",
   "execution_count": null,
   "id": "f1dbf9ea-8e59-4c74-8b54-dedc714407e8",
   "metadata": {},
   "outputs": [],
   "source": []
  }
 ],
 "metadata": {
  "kernelspec": {
   "display_name": "Python 3 (ipykernel)",
   "language": "python",
   "name": "python3"
  },
  "language_info": {
   "codemirror_mode": {
    "name": "ipython",
    "version": 3
   },
   "file_extension": ".py",
   "mimetype": "text/x-python",
   "name": "python",
   "nbconvert_exporter": "python",
   "pygments_lexer": "ipython3",
   "version": "3.11.4"
  }
 },
 "nbformat": 4,
 "nbformat_minor": 5
}
